{
  "cells": [
    {
      "cell_type": "markdown",
      "metadata": {
        "id": "view-in-github",
        "colab_type": "text"
      },
      "source": [
        "<a href=\"https://colab.research.google.com/github/antoncat10/ProgProj1/blob/main/Week9_lab_excercises.ipynb\" target=\"_parent\"><img src=\"https://colab.research.google.com/assets/colab-badge.svg\" alt=\"Open In Colab\"/></a>"
      ]
    },
    {
      "cell_type": "markdown",
      "metadata": {
        "id": "LZzI1IC0S3ol"
      },
      "source": [
        "---\n",
        "# <div align=\"center\"><font color='green'>  </font></div>\n",
        "# <div align=\"center\"><font color='green'> COSC 2673/2793 | Machine Learning  </font></div>\n",
        "## <div align=\"center\"> <font color='green'> Week 10 Lab Exercises: **Deep Neural Networks (DL)**</font></div>\n",
        "---"
      ]
    },
    {
      "cell_type": "markdown",
      "metadata": {
        "id": "X2qHa2hjS3or"
      },
      "source": [
        "# Introduction\n",
        "\n",
        "In this lab you will be:\n",
        "1. Learning how to use Keras API (in tensorflow library).  \n",
        "2. Implement deep NN to classify images in the [CIFAR-10 dataset](https://www.cs.toronto.edu/~kriz/cifar.html).\n",
        "\n",
        "This lab can be run either on local machine (anaconda), AWS or Google Colab. Instruction on running a notebook on Google Colab is available at: [Instructions on using Google Colab](https://rmit.instructure.com/courses/79534/files/17891673?wrap=1). If you are on Colab, make sure you add a GPU to the notebook so that the code will run faster."
      ]
    },
    {
      "cell_type": "markdown",
      "metadata": {
        "id": "TWwcCHYGS3os"
      },
      "source": [
        "## Dataset\n",
        "We will be using the CIFAR-10 dataset we used last week with NN.\n",
        "\n",
        "\n",
        "# Reading the data\n",
        "Read the CIFAR 10 data and generate train/test/val split."
      ]
    },
    {
      "cell_type": "markdown",
      "metadata": {
        "id": "rvKgAKw4dAvl"
      },
      "source": [
        "**Google colab:** If you are using google colab for this lab run the following 3 blocks to load the data. Also make sure you activate the GPU using the instructions on canvas [Instructions on using Google Colab](https://rmit.instructure.com/courses/79534/files/17891673?wrap=1)\n",
        "\n",
        "**Local machine or AWS:** If on local machine or on AWS, comment the following 3 code blocks"
      ]
    },
    {
      "cell_type": "code",
      "execution_count": null,
      "metadata": {
        "colab": {
          "base_uri": "https://localhost:8080/"
        },
        "id": "e9hhSI43cBKm",
        "outputId": "0f3a7c3b-76b5-43be-f9b7-e4fb7928e4e2"
      },
      "outputs": [
        {
          "output_type": "stream",
          "name": "stdout",
          "text": [
            "Drive already mounted at /content/drive; to attempt to forcibly remount, call drive.mount(\"/content/drive\", force_remount=True).\n"
          ]
        }
      ],
      "source": [
        "from google.colab import drive\n",
        "drive.mount('/content/drive')"
      ]
    },
    {
      "cell_type": "code",
      "execution_count": null,
      "metadata": {
        "colab": {
          "base_uri": "https://localhost:8080/"
        },
        "id": "f3c3pWQzcFmG",
        "outputId": "096a1c59-6372-417e-fd2e-cb8af27de378"
      },
      "outputs": [
        {
          "output_type": "stream",
          "name": "stdout",
          "text": [
            "CIFAR10_Lab9.zip  Week9_lab_excercises.ipynb\n"
          ]
        }
      ],
      "source": [
        "# Change according to your directory structure\n",
        "!ls /content/drive/'My Drive'/ML/W8"
      ]
    },
    {
      "cell_type": "code",
      "execution_count": null,
      "metadata": {
        "colab": {
          "base_uri": "https://localhost:8080/"
        },
        "id": "DyZxM_01cxBn",
        "outputId": "bada653b-413f-4c9e-a350-35b91333439f"
      },
      "outputs": [
        {
          "output_type": "stream",
          "name": "stdout",
          "text": [
            "CIFAR_10_BATCH1  CIFAR_Data.csv  drive\t__MACOSX  sample_data\n"
          ]
        }
      ],
      "source": [
        "# Change according to your directory structure\n",
        "!cp /content/drive/'My Drive'/ML/W8/CIFAR10_Lab9.zip .\n",
        "!unzip -q -o CIFAR10_Lab9.zip\n",
        "!rm CIFAR10_Lab9.zip\n",
        "!ls"
      ]
    },
    {
      "cell_type": "markdown",
      "metadata": {
        "id": "eGhLpv5_zkkb"
      },
      "source": [
        "Running a deep CNN model on our full dataset can be time consuming. Since we are only interested in learning the basics, you can use only a subset of data. Uncomment the two lines after the comment to select a subset of data that include only cats and dogs (2 classes)."
      ]
    },
    {
      "cell_type": "code",
      "execution_count": null,
      "metadata": {
        "colab": {
          "base_uri": "https://localhost:8080/"
        },
        "id": "BV6lsU4DS3os",
        "outputId": "fffc4b25-66c1-42c1-d121-f2e140b02b6a"
      },
      "outputs": [
        {
          "output_type": "stream",
          "name": "stdout",
          "text": [
            "Train data : 6000, Val Data: 2000, Test Data: 2000\n"
          ]
        }
      ],
      "source": [
        "# Uncomment if on loca machine or AWS\n",
        "# import zipfile\n",
        "# with zipfile.ZipFile('./CIFAR10_Lab9.zip', 'r') as zip_ref:\n",
        "#     zip_ref.extractall('./')\n",
        "\n",
        "\n",
        "import numpy as np\n",
        "from sklearn.model_selection import train_test_split\n",
        "import pandas as pd\n",
        "\n",
        "data = pd.read_csv('./CIFAR_Data.csv')\n",
        "\n",
        "OUTPUT_CLASSES = 10\n",
        "\n",
        "# Uncomment the following line to do two class classification with\n",
        "# a subset of data\n",
        "# data = data[(data['Class'] == 3) | (data['Class'] == 5)]\n",
        "# OUTPUT_CLASSES = 2\n",
        "\n",
        "train_data, test_data = train_test_split(data, test_size=0.2, random_state=42)\n",
        "train_data, val_data = train_test_split(train_data, test_size=0.25, random_state=42)\n",
        "\n",
        "print(\"Train data : {}, Val Data: {}, Test Data: {}\".format(train_data.shape[0], val_data.shape[0], test_data.shape[0]))"
      ]
    },
    {
      "cell_type": "markdown",
      "metadata": {
        "id": "zaJHvJqAS3ot"
      },
      "source": [
        "Create the data generator for each split."
      ]
    },
    {
      "cell_type": "code",
      "execution_count": null,
      "metadata": {
        "colab": {
          "base_uri": "https://localhost:8080/"
        },
        "id": "9THb0e0HS3ou",
        "outputId": "cda1fe99-6f32-4e04-b8ba-a6a24ecc624e"
      },
      "outputs": [
        {
          "output_type": "stream",
          "name": "stdout",
          "text": [
            "Found 6000 validated image filenames belonging to 10 classes.\n",
            "Found 2000 validated image filenames belonging to 10 classes.\n"
          ]
        }
      ],
      "source": [
        "train_data['Class'] = train_data['Class'].astype('str')\n",
        "val_data['Class'] = val_data['Class'].astype('str')\n",
        "\n",
        "from tensorflow.keras.preprocessing.image import ImageDataGenerator\n",
        "\n",
        "train_datagen = ImageDataGenerator(rescale=1./255, data_format='channels_last')\n",
        "val_datagen = ImageDataGenerator(rescale=1./255, data_format='channels_last')\n",
        "\n",
        "batch_size = 32\n",
        "\n",
        "train_generator = train_datagen.flow_from_dataframe(\n",
        "        dataframe=train_data,\n",
        "        directory='./',\n",
        "        x_col=\"ImgPath\",\n",
        "        y_col=\"Class\",\n",
        "        target_size=(32, 32),\n",
        "        batch_size=batch_size,\n",
        "        class_mode='categorical')\n",
        "\n",
        "validation_generator = val_datagen.flow_from_dataframe(\n",
        "        dataframe=val_data,\n",
        "        directory='./',\n",
        "        x_col=\"ImgPath\",\n",
        "        y_col=\"Class\",\n",
        "        target_size=(32, 32),\n",
        "        batch_size=batch_size,\n",
        "        class_mode='categorical')"
      ]
    },
    {
      "cell_type": "markdown",
      "metadata": {
        "id": "PoIopcoVS3ou"
      },
      "source": [
        "# Model development\n",
        "\n",
        "As discussed in Week 4-5, the typical ML model development process consists of 4 steps, lets go through each and see how it is done.\n",
        "\n",
        "1. **Determine your goals**: Performance metric and target value. Problem dependent.\n",
        "\n",
        "2. **Setup the experiment**: Setup the test/validation data, visualisers and debuggers needed to determine bottlenecks in performance (overfitting/under-fitting, feature importance).\n",
        "\n",
        "3. **Default Baseline Model**: Identify the components of end-to-end pipeline including - Baseline Models, cost functions, optimisation.\n",
        "\n",
        "4. **Make incremental changes**: Repeatedly make incremental changes such as gathering new data, adjusting hyper-parameters, or changing algorithms, based on specific findings from your instrumentation.\n",
        "\n",
        "\n",
        "### Determine your goals\n",
        "So far we conducted the EDA (task in last weeks lab) and accordingly we can decide that a performance measure such as Accuracy is adequate for this task. This is justified by the observation that there is no label imbalance in our dataset and the task is multi-class classification. According to the CIFAR website others have achieved around 82% accuracy for the full dataset. Therefore we can set that as the target performance value. However this might be unrealistic given:\n",
        "\n",
        "- We are only using a subset of data in this lab (10000/50000) to train the model.\n",
        "\n",
        "\n",
        "**For a Deep CNN the a 70% accuracy target will be more realistic.**\n",
        "\n",
        "\n",
        "### Setup the experiment\n",
        "We have also identified the train/test/val splits and ready to do the experiments. In developing a neural network, we can use the learning curves to identify the next action to take. so let’s write a simple function to plot the learning curve of a NN training process. This will be our diagnostic tool."
      ]
    },
    {
      "cell_type": "code",
      "execution_count": null,
      "metadata": {
        "id": "2lajUTfgS3ow"
      },
      "outputs": [],
      "source": [
        "import matplotlib.pyplot as plt\n",
        "def plot_learning_curve(train_loss, val_loss, train_metric, val_metric, metric_name='Accuracy'):\n",
        "    plt.figure(figsize=(10,5))\n",
        "\n",
        "    plt.subplot(1,2,1)\n",
        "    plt.plot(train_loss, 'r--')\n",
        "    plt.plot(val_loss, 'b--')\n",
        "    plt.xlabel(\"epochs\")\n",
        "    plt.ylabel(\"Loss\")\n",
        "    plt.legend(['train', 'val'], loc='upper left')\n",
        "\n",
        "    plt.subplot(1,2,2)\n",
        "    plt.plot(train_metric, 'r--')\n",
        "    plt.plot(val_metric, 'b--')\n",
        "    plt.xlabel(\"epochs\")\n",
        "    plt.ylabel(metric_name)\n",
        "    plt.legend(['train', 'val'], loc='upper left')\n",
        "\n",
        "    plt.show()"
      ]
    },
    {
      "cell_type": "markdown",
      "metadata": {
        "id": "zdNgc7WhS3ox"
      },
      "source": [
        "### Default Baseline Model"
      ]
    },
    {
      "cell_type": "markdown",
      "metadata": {
        "id": "1jLv6WyQS3ox"
      },
      "source": [
        "Next step is to establish a base model. There are several popular network architectures for image classification task. They include: VGG, GoogLeNet & ResNet. While ResNet is currently the most popular architecture, implementing it as a novice to NN, can be challenging. Therefore We will select the VGG network as our base model. You may later try to adapt ResNet for this task in your own time.\n",
        "\n",
        "Reference: [VGG paper](https://arxiv.org/abs/1409.1556)\n",
        "\n",
        "The VGG network was originally designed for classifying large images (with resolution around 224x224). However our images are much smaller (32x32). *Can we adapt VGG to suite our situation?*\n",
        "\n",
        "If you study the structure of the VGG, you will notice that it consists of many blocks (A block consists of: convolution + activation + pooling). Those blocks will lead to downscaling of the image due to the use of the max pooling layer. In the original VGG, there are many such blocks because the input image size is 224x224. What we can do is use only a few VGG blocks to construct the network.\n"
      ]
    },
    {
      "cell_type": "markdown",
      "metadata": {
        "id": "sKYmaQQGS3oy"
      },
      "source": [
        "Lets start with a base model with only three VGG blocks."
      ]
    },
    {
      "cell_type": "code",
      "execution_count": null,
      "metadata": {
        "id": "EJVkNhmmS3oy"
      },
      "outputs": [],
      "source": [
        "import tensorflow as tf\n",
        "\n",
        "\n",
        "model_VGG_1 = tf.keras.Sequential([\n",
        "    #VGG block 1\n",
        "    tf.keras.layers.Conv2D(32, (3, 3), activation='relu', padding='same', input_shape=(32, 32, 3)),\n",
        "    tf.keras.layers.Conv2D(32, (3, 3), activation='relu', padding='same'),\n",
        "    tf.keras.layers.MaxPooling2D((2, 2)),   #downsample the feature maps\n",
        "\n",
        "    #VGG block 2\n",
        "    tf.keras.layers.Conv2D(64, (3, 3), activation='relu', padding='same'),\n",
        "    tf.keras.layers.Conv2D(64, (3, 3), activation='relu', padding='same'),\n",
        "    tf.keras.layers.MaxPooling2D((2, 2)),\n",
        "\n",
        "    #VGG block 3\n",
        "    tf.keras.layers.Conv2D(128, (3, 3), activation='relu', padding='same'),\n",
        "    tf.keras.layers.Conv2D(128, (3, 3), activation='relu', padding='same'),\n",
        "    tf.keras.layers.MaxPooling2D((2, 2)),\n",
        "\n",
        "    # MLP part, used for classification\n",
        "    tf.keras.layers.Flatten(),  # Flatten into 1-D layer\n",
        "    tf.keras.layers.Dense(128, activation='relu'),\n",
        "    tf.keras.layers.Dense(OUTPUT_CLASSES),\n",
        "])"
      ]
    },
    {
      "cell_type": "markdown",
      "metadata": {
        "id": "lRS3NAoeS3oy"
      },
      "source": [
        "**Observations:**\n",
        "- VGG has 3x3 convolution kernels only.\n",
        "- Pooling is always max-pooling and they are (2x2).\n",
        "- Padding is same - No boarder pixels lost when applying convolutions.\n",
        "- activation is ReLU\n",
        "\n",
        "Lets compile the model and fit."
      ]
    },
    {
      "cell_type": "code",
      "execution_count": null,
      "metadata": {
        "id": "_LUV4UqdS3oz"
      },
      "outputs": [],
      "source": [
        "model_VGG_1.compile(optimizer='adam',\n",
        "              loss=tf.keras.losses.CategoricalCrossentropy(from_logits=True),\n",
        "              metrics=['categorical_accuracy'])"
      ]
    },
    {
      "cell_type": "code",
      "execution_count": null,
      "metadata": {
        "colab": {
          "base_uri": "https://localhost:8080/"
        },
        "id": "SC8QbdenS3oz",
        "outputId": "a8a9d939-036c-42c2-e7c7-8beda8909ab6"
      },
      "outputs": [
        {
          "output_type": "stream",
          "name": "stderr",
          "text": [
            "<ipython-input-9-bf5e1f23ec58>:1: UserWarning: `Model.fit_generator` is deprecated and will be removed in a future version. Please use `Model.fit`, which supports generators.\n",
            "  history_VGG_1 = model_VGG_1.fit_generator(train_generator, validation_data = validation_generator, epochs=25, verbose=1)\n"
          ]
        },
        {
          "output_type": "stream",
          "name": "stdout",
          "text": [
            "Epoch 1/25\n",
            "188/188 [==============================] - 17s 30ms/step - loss: 2.1274 - categorical_accuracy: 0.1852 - val_loss: 1.9015 - val_categorical_accuracy: 0.2860\n",
            "Epoch 2/25\n",
            "188/188 [==============================] - 4s 23ms/step - loss: 1.8438 - categorical_accuracy: 0.3100 - val_loss: 1.6963 - val_categorical_accuracy: 0.3780\n",
            "Epoch 3/25\n",
            "188/188 [==============================] - 5s 24ms/step - loss: 1.6298 - categorical_accuracy: 0.3887 - val_loss: 1.5142 - val_categorical_accuracy: 0.4570\n",
            "Epoch 4/25\n",
            "188/188 [==============================] - 3s 18ms/step - loss: 1.4423 - categorical_accuracy: 0.4690 - val_loss: 1.4495 - val_categorical_accuracy: 0.4720\n",
            "Epoch 5/25\n",
            "188/188 [==============================] - 4s 21ms/step - loss: 1.3259 - categorical_accuracy: 0.5188 - val_loss: 1.3920 - val_categorical_accuracy: 0.4965\n",
            "Epoch 6/25\n",
            "188/188 [==============================] - 5s 26ms/step - loss: 1.1757 - categorical_accuracy: 0.5775 - val_loss: 1.3760 - val_categorical_accuracy: 0.5025\n",
            "Epoch 7/25\n",
            "188/188 [==============================] - 3s 18ms/step - loss: 1.0499 - categorical_accuracy: 0.6203 - val_loss: 1.3285 - val_categorical_accuracy: 0.5350\n",
            "Epoch 8/25\n",
            "188/188 [==============================] - 3s 18ms/step - loss: 0.9398 - categorical_accuracy: 0.6580 - val_loss: 1.3345 - val_categorical_accuracy: 0.5540\n",
            "Epoch 9/25\n",
            "188/188 [==============================] - 4s 22ms/step - loss: 0.8300 - categorical_accuracy: 0.7028 - val_loss: 1.4379 - val_categorical_accuracy: 0.5435\n",
            "Epoch 10/25\n",
            "188/188 [==============================] - 5s 26ms/step - loss: 0.6739 - categorical_accuracy: 0.7623 - val_loss: 1.4714 - val_categorical_accuracy: 0.5515\n",
            "Epoch 11/25\n",
            "188/188 [==============================] - 3s 18ms/step - loss: 0.5440 - categorical_accuracy: 0.8070 - val_loss: 1.5887 - val_categorical_accuracy: 0.5580\n",
            "Epoch 12/25\n",
            "188/188 [==============================] - 3s 18ms/step - loss: 0.4189 - categorical_accuracy: 0.8528 - val_loss: 1.9054 - val_categorical_accuracy: 0.5525\n",
            "Epoch 13/25\n",
            "188/188 [==============================] - 5s 27ms/step - loss: 0.3303 - categorical_accuracy: 0.8830 - val_loss: 1.8894 - val_categorical_accuracy: 0.5425\n",
            "Epoch 14/25\n",
            "188/188 [==============================] - 4s 22ms/step - loss: 0.2677 - categorical_accuracy: 0.9065 - val_loss: 2.1025 - val_categorical_accuracy: 0.5325\n",
            "Epoch 15/25\n",
            "188/188 [==============================] - 3s 19ms/step - loss: 0.2207 - categorical_accuracy: 0.9233 - val_loss: 2.1829 - val_categorical_accuracy: 0.5480\n",
            "Epoch 16/25\n",
            "188/188 [==============================] - 4s 20ms/step - loss: 0.1612 - categorical_accuracy: 0.9452 - val_loss: 2.7457 - val_categorical_accuracy: 0.5390\n",
            "Epoch 17/25\n",
            "188/188 [==============================] - 4s 22ms/step - loss: 0.1451 - categorical_accuracy: 0.9517 - val_loss: 2.6883 - val_categorical_accuracy: 0.5450\n",
            "Epoch 18/25\n",
            "188/188 [==============================] - 5s 24ms/step - loss: 0.0935 - categorical_accuracy: 0.9680 - val_loss: 3.0342 - val_categorical_accuracy: 0.5520\n",
            "Epoch 19/25\n",
            "188/188 [==============================] - 4s 20ms/step - loss: 0.1609 - categorical_accuracy: 0.9462 - val_loss: 3.1898 - val_categorical_accuracy: 0.5425\n",
            "Epoch 20/25\n",
            "188/188 [==============================] - 4s 24ms/step - loss: 0.1189 - categorical_accuracy: 0.9610 - val_loss: 3.0765 - val_categorical_accuracy: 0.5285\n",
            "Epoch 21/25\n",
            "188/188 [==============================] - 3s 18ms/step - loss: 0.1303 - categorical_accuracy: 0.9565 - val_loss: 2.9266 - val_categorical_accuracy: 0.5510\n",
            "Epoch 22/25\n",
            "188/188 [==============================] - 3s 18ms/step - loss: 0.0392 - categorical_accuracy: 0.9878 - val_loss: 3.6697 - val_categorical_accuracy: 0.5410\n",
            "Epoch 23/25\n",
            "188/188 [==============================] - 5s 25ms/step - loss: 0.0529 - categorical_accuracy: 0.9843 - val_loss: 3.5806 - val_categorical_accuracy: 0.5285\n",
            "Epoch 24/25\n",
            "188/188 [==============================] - 7s 39ms/step - loss: 0.1224 - categorical_accuracy: 0.9595 - val_loss: 3.4770 - val_categorical_accuracy: 0.5260\n",
            "Epoch 25/25\n",
            "188/188 [==============================] - 8s 42ms/step - loss: 0.0572 - categorical_accuracy: 0.9810 - val_loss: 4.0987 - val_categorical_accuracy: 0.5330\n"
          ]
        }
      ],
      "source": [
        "history_VGG_1 = model_VGG_1.fit_generator(train_generator, validation_data = validation_generator, epochs=25, verbose=1)\n",
        "# Put 'verbose' as 1 or 2, not 0 (to see the changes)"
      ]
    },
    {
      "cell_type": "code",
      "execution_count": null,
      "metadata": {
        "colab": {
          "base_uri": "https://localhost:8080/",
          "height": 465
        },
        "id": "oG_LumaSS3oz",
        "outputId": "44df4b2a-1911-4377-c3eb-a462229a2b5a"
      },
      "outputs": [
        {
          "output_type": "display_data",
          "data": {
            "text/plain": [
              "<Figure size 1000x500 with 2 Axes>"
            ],
            "image/png": "[encoded data removed]"
          },
          "metadata": {}
        }
      ],
      "source": [
        "plot_learning_curve(history_VGG_1.history['loss'], history_VGG_1.history['val_loss'],\n",
        "                    history_VGG_1.history['categorical_accuracy'], history_VGG_1.history['val_categorical_accuracy'],\n",
        "                    metric_name='Accuracy')"
      ]
    },
    {
      "cell_type": "markdown",
      "metadata": {
        "id": "0em1-YKwS3o0"
      },
      "source": [
        "What do you observe?\n",
        "\n",
        "How can you rectify the issues in the above model?"
      ]
    },
    {
      "cell_type": "markdown",
      "source": [
        "**Notes:**\n",
        "- Model is <font color='red'>overfitted</font>."
      ],
      "metadata": {
        "id": "uE4-zI5Gsq-a"
      }
    },
    {
      "cell_type": "markdown",
      "metadata": {
        "id": "tJT0hvcJS3o0"
      },
      "source": [
        "### Make incremental changes\n",
        "Based on the observations we can now take appropriate actions. The above plots show that the model is overfitting. What are the appropriate actions?\n",
        "\n",
        "We can use any of the above techniques or a combination:\n",
        "- Weight regularisation\n",
        "- Dropout\n",
        "- Removing layers or reducing number of kernels (making the model simple)\n",
        "- Data Augmentation\n",
        "- Gathering more data\n",
        "- etc\n",
        "\n",
        "Let's start by applying some weight regularisation and dropout."
      ]
    },
    {
      "cell_type": "code",
      "execution_count": null,
      "metadata": {
        "id": "5oJftpdwS3o1"
      },
      "outputs": [],
      "source": [
        "reg_lambda = 0.001\n",
        "\n",
        "model_VGG_2 = tf.keras.Sequential([\n",
        "    #VGG block 1\n",
        "    tf.keras.layers.Conv2D(32, (3, 3), activation='relu', padding='same',\n",
        "                           kernel_regularizer=tf.keras.regularizers.l2(reg_lambda), input_shape=(32, 32, 3)),\n",
        "    tf.keras.layers.Conv2D(32, (3, 3), activation='relu', padding='same',\n",
        "                           kernel_regularizer=tf.keras.regularizers.l2(reg_lambda)),\n",
        "    tf.keras.layers.MaxPooling2D((2, 2)),\n",
        "\n",
        "    #VGG block 2\n",
        "    tf.keras.layers.Conv2D(64, (3, 3), activation='relu', padding='same',\n",
        "                           kernel_regularizer=tf.keras.regularizers.l2(reg_lambda)),\n",
        "    tf.keras.layers.Conv2D(64, (3, 3), activation='relu', padding='same',\n",
        "                           kernel_regularizer=tf.keras.regularizers.l2(reg_lambda)),\n",
        "    tf.keras.layers.MaxPooling2D((2, 2)),\n",
        "\n",
        "    #VGG block 3\n",
        "    tf.keras.layers.Conv2D(128, (3, 3), activation='relu', padding='same',\n",
        "                           kernel_regularizer=tf.keras.regularizers.l2(reg_lambda)),\n",
        "    tf.keras.layers.Conv2D(128, (3, 3), activation='relu', padding='same',\n",
        "                           kernel_regularizer=tf.keras.regularizers.l2(reg_lambda)),\n",
        "    tf.keras.layers.MaxPooling2D((2, 2)),\n",
        "\n",
        "    tf.keras.layers.Flatten(),\n",
        "    tf.keras.layers.Dense(128, activation='relu'),\n",
        "    tf.keras.layers.Dropout(.2),\n",
        "    tf.keras.layers.Dense(OUTPUT_CLASSES),\n",
        "])"
      ]
    },
    {
      "cell_type": "markdown",
      "source": [
        "**Notes:**\n",
        "- Hyperparameter tune lamdba values at `.l2(reg_lambda)`\n",
        "- Hyperparameter tune `.Dropout` value\n",
        "- Hyperparameter tune `.Dense` layers"
      ],
      "metadata": {
        "id": "gJkq60DctDEh"
      }
    },
    {
      "cell_type": "code",
      "execution_count": null,
      "metadata": {
        "id": "Vb242u8VS3o1"
      },
      "outputs": [],
      "source": [
        "model_VGG_2.compile(optimizer='adam',\n",
        "              loss=tf.keras.losses.CategoricalCrossentropy(from_logits=True),\n",
        "              metrics=['categorical_accuracy'])"
      ]
    },
    {
      "cell_type": "code",
      "execution_count": null,
      "metadata": {
        "colab": {
          "base_uri": "https://localhost:8080/",
          "height": 1000
        },
        "id": "0bk6krJ1S3o1",
        "outputId": "fbb6d15e-749c-4b5c-f837-6b638b429ef5"
      },
      "outputs": [
        {
          "output_type": "stream",
          "name": "stdout",
          "text": [
            "Epoch 1/100\n"
          ]
        },
        {
          "output_type": "stream",
          "name": "stderr",
          "text": [
            "<ipython-input-13-1165f2bc0897>:1: UserWarning: `Model.fit_generator` is deprecated and will be removed in a future version. Please use `Model.fit`, which supports generators.\n",
            "  history_VGG_2 = model_VGG_2.fit_generator(train_generator, validation_data = validation_generator, epochs=100, verbose=1)\n"
          ]
        },
        {
          "output_type": "stream",
          "name": "stdout",
          "text": [
            "188/188 [==============================] - 13s 42ms/step - loss: 2.2221 - categorical_accuracy: 0.2002 - val_loss: 1.9946 - val_categorical_accuracy: 0.2800\n",
            "Epoch 2/100\n",
            "188/188 [==============================] - 7s 38ms/step - loss: 1.9758 - categorical_accuracy: 0.2757 - val_loss: 1.8809 - val_categorical_accuracy: 0.3160\n",
            "Epoch 3/100\n",
            "188/188 [==============================] - 5s 27ms/step - loss: 1.8474 - categorical_accuracy: 0.3198 - val_loss: 1.7624 - val_categorical_accuracy: 0.3725\n",
            "Epoch 4/100\n",
            "188/188 [==============================] - 5s 27ms/step - loss: 1.7314 - categorical_accuracy: 0.3722 - val_loss: 1.6083 - val_categorical_accuracy: 0.4230\n",
            "Epoch 5/100\n",
            "188/188 [==============================] - 6s 32ms/step - loss: 1.6600 - categorical_accuracy: 0.4017 - val_loss: 1.5483 - val_categorical_accuracy: 0.4540\n",
            "Epoch 6/100\n",
            "188/188 [==============================] - 5s 25ms/step - loss: 1.5731 - categorical_accuracy: 0.4305 - val_loss: 1.5546 - val_categorical_accuracy: 0.4715\n",
            "Epoch 7/100\n",
            "188/188 [==============================] - 6s 33ms/step - loss: 1.5028 - categorical_accuracy: 0.4650 - val_loss: 1.4793 - val_categorical_accuracy: 0.4940\n",
            "Epoch 8/100\n",
            "188/188 [==============================] - 4s 23ms/step - loss: 1.4604 - categorical_accuracy: 0.4930 - val_loss: 1.3960 - val_categorical_accuracy: 0.5170\n",
            "Epoch 9/100\n",
            "188/188 [==============================] - 5s 28ms/step - loss: 1.3966 - categorical_accuracy: 0.5070 - val_loss: 1.3565 - val_categorical_accuracy: 0.5390\n",
            "Epoch 10/100\n",
            "188/188 [==============================] - 6s 33ms/step - loss: 1.3559 - categorical_accuracy: 0.5390 - val_loss: 1.4095 - val_categorical_accuracy: 0.5065\n",
            "Epoch 11/100\n",
            "188/188 [==============================] - 5s 27ms/step - loss: 1.2937 - categorical_accuracy: 0.5530 - val_loss: 1.3754 - val_categorical_accuracy: 0.5230\n",
            "Epoch 12/100\n",
            "188/188 [==============================] - 5s 24ms/step - loss: 1.2468 - categorical_accuracy: 0.5748 - val_loss: 1.3950 - val_categorical_accuracy: 0.5290\n",
            "Epoch 13/100\n",
            "188/188 [==============================] - 5s 27ms/step - loss: 1.2030 - categorical_accuracy: 0.5900 - val_loss: 1.3229 - val_categorical_accuracy: 0.5525\n",
            "Epoch 14/100\n",
            "188/188 [==============================] - 5s 26ms/step - loss: 1.1552 - categorical_accuracy: 0.6147 - val_loss: 1.3047 - val_categorical_accuracy: 0.5680\n",
            "Epoch 15/100\n",
            "188/188 [==============================] - 3s 19ms/step - loss: 1.1124 - categorical_accuracy: 0.6337 - val_loss: 1.3079 - val_categorical_accuracy: 0.5710\n",
            "Epoch 16/100\n",
            "188/188 [==============================] - 4s 21ms/step - loss: 1.0760 - categorical_accuracy: 0.6537 - val_loss: 1.3176 - val_categorical_accuracy: 0.5765\n",
            "Epoch 17/100\n",
            "188/188 [==============================] - 5s 27ms/step - loss: 1.0478 - categorical_accuracy: 0.6607 - val_loss: 1.3249 - val_categorical_accuracy: 0.5660\n",
            "Epoch 18/100\n",
            "188/188 [==============================] - 5s 29ms/step - loss: 0.9860 - categorical_accuracy: 0.6833 - val_loss: 1.3079 - val_categorical_accuracy: 0.5800\n",
            "Epoch 19/100\n",
            "188/188 [==============================] - 6s 34ms/step - loss: 0.9516 - categorical_accuracy: 0.7000 - val_loss: 1.3780 - val_categorical_accuracy: 0.5680\n",
            "Epoch 20/100\n",
            "188/188 [==============================] - 5s 26ms/step - loss: 0.8859 - categorical_accuracy: 0.7203 - val_loss: 1.3573 - val_categorical_accuracy: 0.5905\n",
            "Epoch 21/100\n",
            "188/188 [==============================] - 7s 38ms/step - loss: 0.8595 - categorical_accuracy: 0.7433 - val_loss: 1.4265 - val_categorical_accuracy: 0.5910\n",
            "Epoch 22/100\n",
            "188/188 [==============================] - 5s 25ms/step - loss: 0.8075 - categorical_accuracy: 0.7485 - val_loss: 1.4784 - val_categorical_accuracy: 0.5800\n",
            "Epoch 23/100\n",
            "188/188 [==============================] - 4s 23ms/step - loss: 0.7861 - categorical_accuracy: 0.7645 - val_loss: 1.4405 - val_categorical_accuracy: 0.5820\n",
            "Epoch 24/100\n",
            "188/188 [==============================] - 5s 29ms/step - loss: 0.7577 - categorical_accuracy: 0.7755 - val_loss: 1.5303 - val_categorical_accuracy: 0.5780\n",
            "Epoch 25/100\n",
            "188/188 [==============================] - 4s 23ms/step - loss: 0.7255 - categorical_accuracy: 0.7895 - val_loss: 1.5731 - val_categorical_accuracy: 0.5740\n",
            "Epoch 26/100\n",
            "188/188 [==============================] - 7s 35ms/step - loss: 0.6922 - categorical_accuracy: 0.8013 - val_loss: 1.5642 - val_categorical_accuracy: 0.5835\n",
            "Epoch 27/100\n",
            "188/188 [==============================] - 4s 20ms/step - loss: 0.6504 - categorical_accuracy: 0.8162 - val_loss: 1.6674 - val_categorical_accuracy: 0.5935\n",
            "Epoch 28/100\n",
            "188/188 [==============================] - 4s 19ms/step - loss: 0.6191 - categorical_accuracy: 0.8272 - val_loss: 1.7667 - val_categorical_accuracy: 0.5925\n",
            "Epoch 29/100\n",
            "188/188 [==============================] - 5s 24ms/step - loss: 0.5885 - categorical_accuracy: 0.8477 - val_loss: 1.8888 - val_categorical_accuracy: 0.5870\n",
            "Epoch 30/100\n",
            "188/188 [==============================] - 4s 19ms/step - loss: 0.5679 - categorical_accuracy: 0.8510 - val_loss: 1.7558 - val_categorical_accuracy: 0.5825\n",
            "Epoch 31/100\n",
            "188/188 [==============================] - 5s 26ms/step - loss: 0.5906 - categorical_accuracy: 0.8430 - val_loss: 1.7961 - val_categorical_accuracy: 0.5995\n",
            "Epoch 32/100\n",
            "188/188 [==============================] - 5s 25ms/step - loss: 0.5536 - categorical_accuracy: 0.8648 - val_loss: 1.7497 - val_categorical_accuracy: 0.5820\n",
            "Epoch 33/100\n",
            "188/188 [==============================] - 4s 22ms/step - loss: 0.5107 - categorical_accuracy: 0.8792 - val_loss: 1.9422 - val_categorical_accuracy: 0.5850\n",
            "Epoch 34/100\n",
            "188/188 [==============================] - 4s 19ms/step - loss: 0.4866 - categorical_accuracy: 0.8913 - val_loss: 1.9315 - val_categorical_accuracy: 0.5830\n",
            "Epoch 35/100\n",
            "188/188 [==============================] - 5s 28ms/step - loss: 0.4741 - categorical_accuracy: 0.8965 - val_loss: 2.0696 - val_categorical_accuracy: 0.5845\n",
            "Epoch 36/100\n",
            "188/188 [==============================] - 4s 21ms/step - loss: 0.4653 - categorical_accuracy: 0.8927 - val_loss: 2.1025 - val_categorical_accuracy: 0.5885\n",
            "Epoch 37/100\n",
            "188/188 [==============================] - 4s 19ms/step - loss: 0.4779 - categorical_accuracy: 0.8962 - val_loss: 2.1722 - val_categorical_accuracy: 0.5825\n",
            "Epoch 38/100\n",
            "188/188 [==============================] - 4s 22ms/step - loss: 0.4726 - categorical_accuracy: 0.8968 - val_loss: 2.0334 - val_categorical_accuracy: 0.5830\n",
            "Epoch 39/100\n",
            "188/188 [==============================] - 6s 34ms/step - loss: 0.4483 - categorical_accuracy: 0.9055 - val_loss: 2.2498 - val_categorical_accuracy: 0.5845\n",
            "Epoch 40/100\n",
            "188/188 [==============================] - 5s 24ms/step - loss: 0.4505 - categorical_accuracy: 0.9078 - val_loss: 2.0526 - val_categorical_accuracy: 0.5870\n",
            "Epoch 41/100\n",
            "188/188 [==============================] - 4s 19ms/step - loss: 0.4185 - categorical_accuracy: 0.9205 - val_loss: 2.2657 - val_categorical_accuracy: 0.5875\n",
            "Epoch 42/100\n",
            "188/188 [==============================] - 5s 25ms/step - loss: 0.4181 - categorical_accuracy: 0.9177 - val_loss: 2.1699 - val_categorical_accuracy: 0.5855\n",
            "Epoch 43/100\n",
            "188/188 [==============================] - 5s 25ms/step - loss: 0.4305 - categorical_accuracy: 0.9122 - val_loss: 2.3545 - val_categorical_accuracy: 0.5915\n",
            "Epoch 44/100\n",
            "188/188 [==============================] - 4s 22ms/step - loss: 0.4080 - categorical_accuracy: 0.9200 - val_loss: 2.3718 - val_categorical_accuracy: 0.5845\n",
            "Epoch 45/100\n",
            "188/188 [==============================] - 4s 19ms/step - loss: 0.4161 - categorical_accuracy: 0.9183 - val_loss: 2.3114 - val_categorical_accuracy: 0.5750\n",
            "Epoch 46/100\n",
            "188/188 [==============================] - 6s 30ms/step - loss: 0.3880 - categorical_accuracy: 0.9285 - val_loss: 2.4997 - val_categorical_accuracy: 0.5890\n",
            "Epoch 47/100\n",
            "188/188 [==============================] - 4s 19ms/step - loss: 0.4173 - categorical_accuracy: 0.9173 - val_loss: 2.4131 - val_categorical_accuracy: 0.5885\n",
            "Epoch 48/100\n",
            "188/188 [==============================] - 5s 26ms/step - loss: 0.4017 - categorical_accuracy: 0.9223 - val_loss: 2.3079 - val_categorical_accuracy: 0.5980\n",
            "Epoch 49/100\n",
            "188/188 [==============================] - 4s 23ms/step - loss: 0.3890 - categorical_accuracy: 0.9303 - val_loss: 2.4664 - val_categorical_accuracy: 0.5890\n",
            "Epoch 50/100\n",
            "188/188 [==============================] - 4s 19ms/step - loss: 0.3660 - categorical_accuracy: 0.9365 - val_loss: 2.5243 - val_categorical_accuracy: 0.5790\n",
            "Epoch 51/100\n",
            "188/188 [==============================] - 4s 20ms/step - loss: 0.3831 - categorical_accuracy: 0.9333 - val_loss: 2.4176 - val_categorical_accuracy: 0.5950\n",
            "Epoch 52/100\n",
            "188/188 [==============================] - 5s 25ms/step - loss: 0.3525 - categorical_accuracy: 0.9455 - val_loss: 2.4382 - val_categorical_accuracy: 0.5820\n",
            "Epoch 53/100\n",
            "188/188 [==============================] - 4s 19ms/step - loss: 0.3776 - categorical_accuracy: 0.9350 - val_loss: 2.4350 - val_categorical_accuracy: 0.5735\n",
            "Epoch 54/100\n",
            "188/188 [==============================] - 4s 23ms/step - loss: 0.3590 - categorical_accuracy: 0.9420 - val_loss: 2.7720 - val_categorical_accuracy: 0.5870\n",
            "Epoch 55/100\n",
            "188/188 [==============================] - 5s 29ms/step - loss: 0.3916 - categorical_accuracy: 0.9337 - val_loss: 2.5396 - val_categorical_accuracy: 0.5655\n",
            "Epoch 56/100\n",
            "188/188 [==============================] - 4s 19ms/step - loss: 0.3914 - categorical_accuracy: 0.9302 - val_loss: 2.3759 - val_categorical_accuracy: 0.5860\n",
            "Epoch 57/100\n",
            "188/188 [==============================] - 4s 22ms/step - loss: 0.3725 - categorical_accuracy: 0.9355 - val_loss: 2.6753 - val_categorical_accuracy: 0.5770\n",
            "Epoch 58/100\n",
            "188/188 [==============================] - 5s 26ms/step - loss: 0.3642 - categorical_accuracy: 0.9422 - val_loss: 2.4435 - val_categorical_accuracy: 0.5840\n",
            "Epoch 59/100\n",
            "188/188 [==============================] - 4s 22ms/step - loss: 0.3638 - categorical_accuracy: 0.9445 - val_loss: 2.5797 - val_categorical_accuracy: 0.5900\n",
            "Epoch 60/100\n",
            "188/188 [==============================] - 4s 19ms/step - loss: 0.3484 - categorical_accuracy: 0.9462 - val_loss: 2.5463 - val_categorical_accuracy: 0.5730\n",
            "Epoch 61/100\n",
            "188/188 [==============================] - 4s 20ms/step - loss: 0.3556 - categorical_accuracy: 0.9468 - val_loss: 2.5619 - val_categorical_accuracy: 0.5840\n",
            "Epoch 62/100\n",
            "188/188 [==============================] - 6s 31ms/step - loss: 0.3675 - categorical_accuracy: 0.9420 - val_loss: 2.6085 - val_categorical_accuracy: 0.5845\n",
            "Epoch 63/100\n",
            "188/188 [==============================] - 4s 19ms/step - loss: 0.3301 - categorical_accuracy: 0.9497 - val_loss: 2.6315 - val_categorical_accuracy: 0.5770\n",
            "Epoch 64/100\n",
            "188/188 [==============================] - 4s 23ms/step - loss: 0.3294 - categorical_accuracy: 0.9483 - val_loss: 2.7191 - val_categorical_accuracy: 0.5825\n",
            "Epoch 65/100\n",
            "188/188 [==============================] - 5s 25ms/step - loss: 0.3648 - categorical_accuracy: 0.9387 - val_loss: 2.5221 - val_categorical_accuracy: 0.5815\n",
            "Epoch 66/100\n",
            "188/188 [==============================] - 4s 19ms/step - loss: 0.3507 - categorical_accuracy: 0.9435 - val_loss: 2.4940 - val_categorical_accuracy: 0.5930\n",
            "Epoch 67/100\n",
            "188/188 [==============================] - 4s 19ms/step - loss: 0.3313 - categorical_accuracy: 0.9527 - val_loss: 2.5773 - val_categorical_accuracy: 0.5960\n",
            "Epoch 68/100\n",
            "188/188 [==============================] - 5s 27ms/step - loss: 0.3523 - categorical_accuracy: 0.9428 - val_loss: 2.6645 - val_categorical_accuracy: 0.5845\n",
            "Epoch 69/100\n",
            "188/188 [==============================] - 4s 21ms/step - loss: 0.3401 - categorical_accuracy: 0.9497 - val_loss: 2.6888 - val_categorical_accuracy: 0.5840\n",
            "Epoch 70/100\n",
            "188/188 [==============================] - 4s 22ms/step - loss: 0.3441 - categorical_accuracy: 0.9442 - val_loss: 2.7918 - val_categorical_accuracy: 0.5865\n",
            "Epoch 71/100\n",
            "188/188 [==============================] - 4s 22ms/step - loss: 0.3755 - categorical_accuracy: 0.9362 - val_loss: 2.5663 - val_categorical_accuracy: 0.5640\n",
            "Epoch 72/100\n",
            "188/188 [==============================] - 6s 30ms/step - loss: 0.3345 - categorical_accuracy: 0.9517 - val_loss: 2.9120 - val_categorical_accuracy: 0.5860\n",
            "Epoch 73/100\n",
            "188/188 [==============================] - 4s 19ms/step - loss: 0.3223 - categorical_accuracy: 0.9553 - val_loss: 2.9648 - val_categorical_accuracy: 0.5865\n",
            "Epoch 74/100\n",
            "188/188 [==============================] - 4s 21ms/step - loss: 0.3379 - categorical_accuracy: 0.9468 - val_loss: 2.6080 - val_categorical_accuracy: 0.5845\n",
            "Epoch 75/100\n",
            "188/188 [==============================] - 5s 26ms/step - loss: 0.3143 - categorical_accuracy: 0.9538 - val_loss: 2.7632 - val_categorical_accuracy: 0.5830\n",
            "Epoch 76/100\n",
            "188/188 [==============================] - 4s 22ms/step - loss: 0.3340 - categorical_accuracy: 0.9483 - val_loss: 2.5033 - val_categorical_accuracy: 0.5920\n",
            "Epoch 77/100\n",
            "188/188 [==============================] - 4s 19ms/step - loss: 0.3325 - categorical_accuracy: 0.9520 - val_loss: 2.4957 - val_categorical_accuracy: 0.5710\n",
            "Epoch 78/100\n",
            "188/188 [==============================] - 5s 24ms/step - loss: 0.3259 - categorical_accuracy: 0.9508 - val_loss: 2.7681 - val_categorical_accuracy: 0.5765\n",
            "Epoch 79/100\n",
            "188/188 [==============================] - 5s 26ms/step - loss: 0.3192 - categorical_accuracy: 0.9533 - val_loss: 2.9348 - val_categorical_accuracy: 0.5670\n",
            "Epoch 80/100\n",
            "188/188 [==============================] - 4s 19ms/step - loss: 0.3215 - categorical_accuracy: 0.9502 - val_loss: 2.6759 - val_categorical_accuracy: 0.5830\n",
            "Epoch 81/100\n",
            "188/188 [==============================] - 5s 24ms/step - loss: 0.3284 - categorical_accuracy: 0.9497 - val_loss: 2.7420 - val_categorical_accuracy: 0.5890\n",
            "Epoch 82/100\n",
            "188/188 [==============================] - 5s 27ms/step - loss: 0.3256 - categorical_accuracy: 0.9510 - val_loss: 2.6464 - val_categorical_accuracy: 0.5615\n",
            "Epoch 83/100\n",
            "188/188 [==============================] - 4s 19ms/step - loss: 0.3059 - categorical_accuracy: 0.9565 - val_loss: 2.8094 - val_categorical_accuracy: 0.5855\n",
            "Epoch 84/100\n",
            "188/188 [==============================] - 4s 22ms/step - loss: 0.3273 - categorical_accuracy: 0.9497 - val_loss: 2.6437 - val_categorical_accuracy: 0.5770\n",
            "Epoch 85/100\n",
            "188/188 [==============================] - 5s 28ms/step - loss: 0.3120 - categorical_accuracy: 0.9568 - val_loss: 2.8797 - val_categorical_accuracy: 0.5680\n",
            "Epoch 86/100\n",
            "188/188 [==============================] - 4s 23ms/step - loss: 0.3123 - categorical_accuracy: 0.9558 - val_loss: 2.6999 - val_categorical_accuracy: 0.5855\n",
            "Epoch 87/100\n",
            "188/188 [==============================] - 5s 28ms/step - loss: 0.3032 - categorical_accuracy: 0.9595 - val_loss: 2.5083 - val_categorical_accuracy: 0.5905\n",
            "Epoch 88/100\n",
            "188/188 [==============================] - 4s 19ms/step - loss: 0.3083 - categorical_accuracy: 0.9553 - val_loss: 2.6899 - val_categorical_accuracy: 0.5790\n",
            "Epoch 89/100\n",
            "188/188 [==============================] - 5s 25ms/step - loss: 0.3068 - categorical_accuracy: 0.9540 - val_loss: 2.7884 - val_categorical_accuracy: 0.5840\n",
            "Epoch 90/100\n",
            "188/188 [==============================] - 4s 22ms/step - loss: 0.3203 - categorical_accuracy: 0.9480 - val_loss: 2.8515 - val_categorical_accuracy: 0.5775\n",
            "Epoch 91/100\n",
            "188/188 [==============================] - 4s 19ms/step - loss: 0.3030 - categorical_accuracy: 0.9580 - val_loss: 2.9426 - val_categorical_accuracy: 0.5735\n",
            "Epoch 92/100\n",
            "188/188 [==============================] - 4s 23ms/step - loss: 0.3557 - categorical_accuracy: 0.9408 - val_loss: 2.7633 - val_categorical_accuracy: 0.5795\n",
            "Epoch 93/100\n",
            "188/188 [==============================] - 5s 26ms/step - loss: 0.2918 - categorical_accuracy: 0.9617 - val_loss: 2.7453 - val_categorical_accuracy: 0.5920\n",
            "Epoch 94/100\n",
            "188/188 [==============================] - 4s 19ms/step - loss: 0.2882 - categorical_accuracy: 0.9617 - val_loss: 3.0238 - val_categorical_accuracy: 0.5755\n",
            "Epoch 95/100\n",
            "188/188 [==============================] - 4s 19ms/step - loss: 0.2968 - categorical_accuracy: 0.9583 - val_loss: 2.7425 - val_categorical_accuracy: 0.5910\n",
            "Epoch 96/100\n",
            "188/188 [==============================] - 5s 29ms/step - loss: 0.2872 - categorical_accuracy: 0.9627 - val_loss: 2.9422 - val_categorical_accuracy: 0.5945\n",
            "Epoch 97/100\n",
            "188/188 [==============================] - 7s 35ms/step - loss: 0.2986 - categorical_accuracy: 0.9570 - val_loss: 3.0051 - val_categorical_accuracy: 0.5750\n",
            "Epoch 98/100\n",
            "188/188 [==============================] - 8s 43ms/step - loss: 0.3334 - categorical_accuracy: 0.9477 - val_loss: 2.6234 - val_categorical_accuracy: 0.5925\n",
            "Epoch 99/100\n",
            "188/188 [==============================] - 6s 30ms/step - loss: 0.2856 - categorical_accuracy: 0.9620 - val_loss: 3.0263 - val_categorical_accuracy: 0.5725\n",
            "Epoch 100/100\n",
            "188/188 [==============================] - 4s 19ms/step - loss: 0.2803 - categorical_accuracy: 0.9635 - val_loss: 2.9102 - val_categorical_accuracy: 0.5950\n"
          ]
        },
        {
          "output_type": "display_data",
          "data": {
            "text/plain": [
              "<Figure size 1000x500 with 2 Axes>"
            ],
            "image/png": "[encoded data removed]"
          },
          "metadata": {}
        }
      ],
      "source": [
        "history_VGG_2 = model_VGG_2.fit_generator(train_generator, validation_data = validation_generator, epochs=100, verbose=1)\n",
        "\n",
        "plot_learning_curve(history_VGG_2.history['loss'], history_VGG_2.history['val_loss'],\n",
        "                    history_VGG_2.history['categorical_accuracy'], history_VGG_2.history['val_categorical_accuracy'],\n",
        "                    metric_name='Accuracy')"
      ]
    },
    {
      "cell_type": "markdown",
      "metadata": {
        "id": "r_1VcPvJhBQF"
      },
      "source": [
        "**Have we solved the issue of overfitting?**\n",
        "\n",
        "If not, what can we do?\n",
        "Well we can tune the hyper-parameter reg_lambda. **This is left as an exercise for you.**\n"
      ]
    },
    {
      "cell_type": "markdown",
      "metadata": {
        "id": "cm9Gse54S3o2"
      },
      "source": [
        "### Data Augmentation\n",
        "\n",
        "If the model is overfitting we can use all the techniques we discussed last week to compensate for that. In addition a common technique used in deep CNN for regularisation is data augmentation.\n",
        "\n",
        "In data augmentation, we randomly perturb the original dataset to form a larger dataset and use that for training.\n",
        "\n",
        "The keras data generator can do this for us. However we need to pick the data augmentation techniques that are appropriate for the task. Lets see how this is done. We apply data augmentation only for training data (not for validation or test)\n",
        "\n",
        "> **<font color='red'><span style=\"font-size:1.5em;\">☞</span> Task: Learn about available data augmentation techniques in keras [ImageDataGenerator](https://www.tensorflow.org/api_docs/python/tf/keras/preprocessing/image/ImageDataGenerator). </font>**  "
      ]
    },
    {
      "cell_type": "code",
      "execution_count": null,
      "metadata": {
        "colab": {
          "base_uri": "https://localhost:8080/"
        },
        "id": "_9u5meVuS3o2",
        "outputId": "9404bcf0-045f-4b38-d92d-ad15f785083f"
      },
      "outputs": [
        {
          "output_type": "stream",
          "name": "stdout",
          "text": [
            "Found 6000 validated image filenames belonging to 10 classes.\n",
            "Found 2000 validated image filenames belonging to 10 classes.\n"
          ]
        }
      ],
      "source": [
        "train_data['Class'] = train_data['Class'].astype('str')\n",
        "val_data['Class'] = val_data['Class'].astype('str')\n",
        "\n",
        "from tensorflow.keras.preprocessing.image import ImageDataGenerator\n",
        "\n",
        "train_datagen = ImageDataGenerator(rescale=1./255, data_format='channels_last',\n",
        "                                   rotation_range=15, width_shift_range=0.2,\n",
        "                                   height_shift_range=0.2, brightness_range=[0.5,1.5])\n",
        "val_datagen = ImageDataGenerator(rescale=1./255, data_format='channels_last')\n",
        "\n",
        "batch_size = 32\n",
        "\n",
        "train_generator = train_datagen.flow_from_dataframe(\n",
        "        dataframe=train_data,\n",
        "        directory='./',\n",
        "        x_col=\"ImgPath\",\n",
        "        y_col=\"Class\",\n",
        "        target_size=(32, 32),\n",
        "        batch_size=batch_size,\n",
        "        class_mode='categorical')\n",
        "\n",
        "validation_generator = val_datagen.flow_from_dataframe(\n",
        "        dataframe=val_data,\n",
        "        directory='./',\n",
        "        x_col=\"ImgPath\",\n",
        "        y_col=\"Class\",\n",
        "        target_size=(32, 32),\n",
        "        batch_size=batch_size,\n",
        "        class_mode='categorical')"
      ]
    },
    {
      "cell_type": "markdown",
      "source": [
        "**Notes:**\n",
        "\n",
        "`rotation_range=15`: Randomly rotates images by up to 15 degrees.\n",
        "- This augmentation technique helps improve the model's ability to generalize by exposing it to variations in orientation.\n",
        "\n",
        "`width_shift_range=0.2`: Randomly shifts images horizontally by up to 20% of the total width.\n",
        "- This augmentation introduces translation in the horizontal direction, helping the model become more robust to changes in object position within the images.\n",
        "\n",
        "`height_shift_range=0.2`: Randomly shifts images vertically by up to 20% of the total height.\n",
        "- Similar to width shifting, this augmentation introduces translation in the vertical direction.\n",
        "\n",
        "`brightness_range=[0.5,1.5]`: Randomly adjusts the brightness of images within the specified range.\n",
        "- This augmentation techniques adds variability in lightning conditions, making the model more resilient to changes in illumination."
      ],
      "metadata": {
        "id": "AVCN5B2ZuDbS"
      }
    },
    {
      "cell_type": "code",
      "execution_count": null,
      "metadata": {
        "id": "keaB955SS3o2"
      },
      "outputs": [],
      "source": [
        "\n",
        "reg_lambda = 0.001\n",
        "\n",
        "model_VGG_3 = tf.keras.Sequential([\n",
        "    #VGG block 1\n",
        "    tf.keras.layers.Conv2D(32, (3, 3), activation='relu', padding='same',\n",
        "                           kernel_regularizer=tf.keras.regularizers.l2(reg_lambda), input_shape=(32, 32, 3)),\n",
        "    tf.keras.layers.Conv2D(32, (3, 3), activation='relu', padding='same',\n",
        "                           kernel_regularizer=tf.keras.regularizers.l2(reg_lambda)),\n",
        "    tf.keras.layers.MaxPooling2D((2, 2)),\n",
        "\n",
        "    #VGG block 2\n",
        "    tf.keras.layers.Conv2D(64, (3, 3), activation='relu', padding='same',\n",
        "                           kernel_regularizer=tf.keras.regularizers.l2(reg_lambda)),\n",
        "    tf.keras.layers.Conv2D(64, (3, 3), activation='relu', padding='same',\n",
        "                           kernel_regularizer=tf.keras.regularizers.l2(reg_lambda)),\n",
        "    tf.keras.layers.MaxPooling2D((2, 2)),\n",
        "\n",
        "    #VGG block 3\n",
        "    tf.keras.layers.Conv2D(128, (3, 3), activation='relu', padding='same',\n",
        "                           kernel_regularizer=tf.keras.regularizers.l2(reg_lambda)),\n",
        "    tf.keras.layers.Conv2D(128, (3, 3), activation='relu', padding='same',\n",
        "                           kernel_regularizer=tf.keras.regularizers.l2(reg_lambda)),\n",
        "    tf.keras.layers.MaxPooling2D((2, 2)),\n",
        "\n",
        "\n",
        "    tf.keras.layers.Flatten(),\n",
        "    tf.keras.layers.Dense(128, activation='relu', kernel_regularizer=tf.keras.regularizers.l2(reg_lambda)),\n",
        "    tf.keras.layers.Dense(OUTPUT_CLASSES),\n",
        "])"
      ]
    },
    {
      "cell_type": "code",
      "execution_count": null,
      "metadata": {
        "id": "Xcr5IEKHS3o3"
      },
      "outputs": [],
      "source": [
        "model_VGG_3.compile(optimizer='adam',\n",
        "              loss=tf.keras.losses.CategoricalCrossentropy(from_logits=True),\n",
        "              metrics=['categorical_accuracy'])"
      ]
    },
    {
      "cell_type": "code",
      "execution_count": null,
      "metadata": {
        "colab": {
          "base_uri": "https://localhost:8080/",
          "height": 1000
        },
        "id": "hY-PWVZ9S3o3",
        "outputId": "57cf3440-3e53-4868-9f60-c4372716da3f"
      },
      "outputs": [
        {
          "output_type": "stream",
          "name": "stdout",
          "text": [
            "Epoch 1/100\n"
          ]
        },
        {
          "output_type": "stream",
          "name": "stderr",
          "text": [
            "<ipython-input-17-8099611179da>:1: UserWarning: `Model.fit_generator` is deprecated and will be removed in a future version. Please use `Model.fit`, which supports generators.\n",
            "  history_VGG_3 = model_VGG_3.fit_generator(train_generator, validation_data = validation_generator, epochs=100, verbose=1)\n"
          ]
        },
        {
          "output_type": "stream",
          "name": "stdout",
          "text": [
            "188/188 [==============================] - 17s 78ms/step - loss: 2.2795 - categorical_accuracy: 0.1962 - val_loss: 2.0104 - val_categorical_accuracy: 0.2710\n",
            "Epoch 2/100\n",
            "188/188 [==============================] - 15s 79ms/step - loss: 2.0566 - categorical_accuracy: 0.2537 - val_loss: 1.9292 - val_categorical_accuracy: 0.2895\n",
            "Epoch 3/100\n",
            "188/188 [==============================] - 14s 72ms/step - loss: 1.9805 - categorical_accuracy: 0.2655 - val_loss: 1.9275 - val_categorical_accuracy: 0.3280\n",
            "Epoch 4/100\n",
            "188/188 [==============================] - 12s 65ms/step - loss: 1.9457 - categorical_accuracy: 0.2913 - val_loss: 1.8893 - val_categorical_accuracy: 0.2970\n",
            "Epoch 5/100\n",
            "188/188 [==============================] - 10s 53ms/step - loss: 1.8896 - categorical_accuracy: 0.3152 - val_loss: 1.7116 - val_categorical_accuracy: 0.3950\n",
            "Epoch 6/100\n",
            "188/188 [==============================] - 8s 42ms/step - loss: 1.8207 - categorical_accuracy: 0.3412 - val_loss: 1.7070 - val_categorical_accuracy: 0.4035\n",
            "Epoch 7/100\n",
            "188/188 [==============================] - 10s 53ms/step - loss: 1.8049 - categorical_accuracy: 0.3453 - val_loss: 1.8407 - val_categorical_accuracy: 0.3615\n",
            "Epoch 8/100\n",
            "188/188 [==============================] - 9s 50ms/step - loss: 1.7833 - categorical_accuracy: 0.3673 - val_loss: 1.6630 - val_categorical_accuracy: 0.4275\n",
            "Epoch 9/100\n",
            "188/188 [==============================] - 9s 49ms/step - loss: 1.7270 - categorical_accuracy: 0.3828 - val_loss: 1.6351 - val_categorical_accuracy: 0.4220\n",
            "Epoch 10/100\n",
            "188/188 [==============================] - 10s 52ms/step - loss: 1.6953 - categorical_accuracy: 0.3988 - val_loss: 1.5539 - val_categorical_accuracy: 0.4635\n",
            "Epoch 11/100\n",
            "188/188 [==============================] - 8s 45ms/step - loss: 1.7023 - categorical_accuracy: 0.4123 - val_loss: 1.5201 - val_categorical_accuracy: 0.4915\n",
            "Epoch 12/100\n",
            "188/188 [==============================] - 10s 53ms/step - loss: 1.6684 - categorical_accuracy: 0.4157 - val_loss: 1.4847 - val_categorical_accuracy: 0.4905\n",
            "Epoch 13/100\n",
            "188/188 [==============================] - 12s 63ms/step - loss: 1.6361 - categorical_accuracy: 0.4290 - val_loss: 1.4907 - val_categorical_accuracy: 0.4875\n",
            "Epoch 14/100\n",
            "188/188 [==============================] - 11s 57ms/step - loss: 1.6367 - categorical_accuracy: 0.4330 - val_loss: 1.5209 - val_categorical_accuracy: 0.4915\n",
            "Epoch 15/100\n",
            "188/188 [==============================] - 12s 64ms/step - loss: 1.6148 - categorical_accuracy: 0.4440 - val_loss: 1.6271 - val_categorical_accuracy: 0.4530\n",
            "Epoch 16/100\n",
            "188/188 [==============================] - 9s 49ms/step - loss: 1.5891 - categorical_accuracy: 0.4517 - val_loss: 1.5259 - val_categorical_accuracy: 0.4780\n",
            "Epoch 17/100\n",
            "188/188 [==============================] - 10s 55ms/step - loss: 1.5870 - categorical_accuracy: 0.4558 - val_loss: 1.4147 - val_categorical_accuracy: 0.5250\n",
            "Epoch 18/100\n",
            "188/188 [==============================] - 8s 45ms/step - loss: 1.5674 - categorical_accuracy: 0.4617 - val_loss: 1.4002 - val_categorical_accuracy: 0.5375\n",
            "Epoch 19/100\n",
            "188/188 [==============================] - 8s 42ms/step - loss: 1.5163 - categorical_accuracy: 0.4855 - val_loss: 1.5102 - val_categorical_accuracy: 0.5120\n",
            "Epoch 20/100\n",
            "188/188 [==============================] - 10s 53ms/step - loss: 1.5622 - categorical_accuracy: 0.4752 - val_loss: 1.4109 - val_categorical_accuracy: 0.5395\n",
            "Epoch 21/100\n",
            "188/188 [==============================] - 8s 45ms/step - loss: 1.5254 - categorical_accuracy: 0.4920 - val_loss: 1.3945 - val_categorical_accuracy: 0.5440\n",
            "Epoch 22/100\n",
            "188/188 [==============================] - 10s 50ms/step - loss: 1.4995 - categorical_accuracy: 0.4933 - val_loss: 1.4531 - val_categorical_accuracy: 0.5280\n",
            "Epoch 23/100\n",
            "188/188 [==============================] - 10s 52ms/step - loss: 1.5020 - categorical_accuracy: 0.4965 - val_loss: 1.3503 - val_categorical_accuracy: 0.5515\n",
            "Epoch 24/100\n",
            "188/188 [==============================] - 9s 45ms/step - loss: 1.4857 - categorical_accuracy: 0.5060 - val_loss: 1.4323 - val_categorical_accuracy: 0.5285\n",
            "Epoch 25/100\n",
            "188/188 [==============================] - 10s 53ms/step - loss: 1.4643 - categorical_accuracy: 0.5120 - val_loss: 1.3673 - val_categorical_accuracy: 0.5540\n",
            "Epoch 26/100\n",
            "188/188 [==============================] - 9s 46ms/step - loss: 1.4780 - categorical_accuracy: 0.5175 - val_loss: 1.3974 - val_categorical_accuracy: 0.5635\n",
            "Epoch 27/100\n",
            "188/188 [==============================] - 9s 48ms/step - loss: 1.4470 - categorical_accuracy: 0.5287 - val_loss: 1.3376 - val_categorical_accuracy: 0.5715\n",
            "Epoch 28/100\n",
            "188/188 [==============================] - 10s 53ms/step - loss: 1.4430 - categorical_accuracy: 0.5322 - val_loss: 1.3869 - val_categorical_accuracy: 0.5530\n",
            "Epoch 29/100\n",
            "188/188 [==============================] - 8s 45ms/step - loss: 1.4334 - categorical_accuracy: 0.5352 - val_loss: 1.4739 - val_categorical_accuracy: 0.5505\n",
            "Epoch 30/100\n",
            "188/188 [==============================] - 10s 55ms/step - loss: 1.4331 - categorical_accuracy: 0.5375 - val_loss: 1.3495 - val_categorical_accuracy: 0.5755\n",
            "Epoch 31/100\n",
            "188/188 [==============================] - 8s 42ms/step - loss: 1.4006 - categorical_accuracy: 0.5505 - val_loss: 1.4340 - val_categorical_accuracy: 0.5405\n",
            "Epoch 32/100\n",
            "188/188 [==============================] - 10s 52ms/step - loss: 1.4058 - categorical_accuracy: 0.5452 - val_loss: 1.3564 - val_categorical_accuracy: 0.5685\n",
            "Epoch 33/100\n",
            "188/188 [==============================] - 9s 46ms/step - loss: 1.3887 - categorical_accuracy: 0.5540 - val_loss: 1.3319 - val_categorical_accuracy: 0.5855\n",
            "Epoch 34/100\n",
            "188/188 [==============================] - 8s 43ms/step - loss: 1.3808 - categorical_accuracy: 0.5593 - val_loss: 1.2948 - val_categorical_accuracy: 0.5980\n",
            "Epoch 35/100\n",
            "188/188 [==============================] - 10s 53ms/step - loss: 1.3727 - categorical_accuracy: 0.5585 - val_loss: 1.3155 - val_categorical_accuracy: 0.5910\n",
            "Epoch 36/100\n",
            "188/188 [==============================] - 8s 42ms/step - loss: 1.3546 - categorical_accuracy: 0.5703 - val_loss: 1.3029 - val_categorical_accuracy: 0.5895\n",
            "Epoch 37/100\n",
            "188/188 [==============================] - 10s 53ms/step - loss: 1.3489 - categorical_accuracy: 0.5710 - val_loss: 1.2893 - val_categorical_accuracy: 0.6065\n",
            "Epoch 38/100\n",
            "188/188 [==============================] - 9s 49ms/step - loss: 1.3745 - categorical_accuracy: 0.5748 - val_loss: 1.4081 - val_categorical_accuracy: 0.5535\n",
            "Epoch 39/100\n",
            "188/188 [==============================] - 10s 55ms/step - loss: 1.3380 - categorical_accuracy: 0.5750 - val_loss: 1.4568 - val_categorical_accuracy: 0.5480\n",
            "Epoch 40/100\n",
            "188/188 [==============================] - 10s 53ms/step - loss: 1.3312 - categorical_accuracy: 0.5803 - val_loss: 1.4192 - val_categorical_accuracy: 0.5800\n",
            "Epoch 41/100\n",
            "188/188 [==============================] - 8s 41ms/step - loss: 1.3578 - categorical_accuracy: 0.5692 - val_loss: 1.2977 - val_categorical_accuracy: 0.6010\n",
            "Epoch 42/100\n",
            "188/188 [==============================] - 10s 52ms/step - loss: 1.3167 - categorical_accuracy: 0.5855 - val_loss: 1.3090 - val_categorical_accuracy: 0.6215\n",
            "Epoch 43/100\n",
            "188/188 [==============================] - 9s 49ms/step - loss: 1.3221 - categorical_accuracy: 0.5893 - val_loss: 1.2702 - val_categorical_accuracy: 0.6240\n",
            "Epoch 44/100\n",
            "188/188 [==============================] - 8s 44ms/step - loss: 1.2962 - categorical_accuracy: 0.5988 - val_loss: 1.3116 - val_categorical_accuracy: 0.5970\n",
            "Epoch 45/100\n",
            "188/188 [==============================] - 10s 52ms/step - loss: 1.3279 - categorical_accuracy: 0.5865 - val_loss: 1.3810 - val_categorical_accuracy: 0.5800\n",
            "Epoch 46/100\n",
            "188/188 [==============================] - 8s 43ms/step - loss: 1.3014 - categorical_accuracy: 0.5968 - val_loss: 1.3194 - val_categorical_accuracy: 0.6045\n",
            "Epoch 47/100\n",
            "188/188 [==============================] - 8s 41ms/step - loss: 1.2990 - categorical_accuracy: 0.5948 - val_loss: 1.3159 - val_categorical_accuracy: 0.6045\n",
            "Epoch 48/100\n",
            "188/188 [==============================] - 10s 51ms/step - loss: 1.2968 - categorical_accuracy: 0.6050 - val_loss: 1.4232 - val_categorical_accuracy: 0.5710\n",
            "Epoch 49/100\n",
            "188/188 [==============================] - 9s 48ms/step - loss: 1.2870 - categorical_accuracy: 0.6127 - val_loss: 1.2219 - val_categorical_accuracy: 0.6355\n",
            "Epoch 50/100\n",
            "188/188 [==============================] - 9s 45ms/step - loss: 1.2934 - categorical_accuracy: 0.5973 - val_loss: 1.2931 - val_categorical_accuracy: 0.6015\n",
            "Epoch 51/100\n",
            "188/188 [==============================] - 10s 52ms/step - loss: 1.2799 - categorical_accuracy: 0.6082 - val_loss: 1.3088 - val_categorical_accuracy: 0.6095\n",
            "Epoch 52/100\n",
            "188/188 [==============================] - 8s 43ms/step - loss: 1.2669 - categorical_accuracy: 0.6127 - val_loss: 1.2430 - val_categorical_accuracy: 0.6450\n",
            "Epoch 53/100\n",
            "188/188 [==============================] - 10s 51ms/step - loss: 1.2717 - categorical_accuracy: 0.6078 - val_loss: 1.3526 - val_categorical_accuracy: 0.5995\n",
            "Epoch 54/100\n",
            "188/188 [==============================] - 8s 45ms/step - loss: 1.2783 - categorical_accuracy: 0.6075 - val_loss: 1.2398 - val_categorical_accuracy: 0.6315\n",
            "Epoch 55/100\n",
            "188/188 [==============================] - 8s 42ms/step - loss: 1.2408 - categorical_accuracy: 0.6215 - val_loss: 1.3188 - val_categorical_accuracy: 0.6070\n",
            "Epoch 56/100\n",
            "188/188 [==============================] - 10s 55ms/step - loss: 1.2480 - categorical_accuracy: 0.6178 - val_loss: 1.4728 - val_categorical_accuracy: 0.5715\n",
            "Epoch 57/100\n",
            "188/188 [==============================] - 8s 45ms/step - loss: 1.2483 - categorical_accuracy: 0.6177 - val_loss: 1.3208 - val_categorical_accuracy: 0.5960\n",
            "Epoch 58/100\n",
            "188/188 [==============================] - 9s 49ms/step - loss: 1.2484 - categorical_accuracy: 0.6185 - val_loss: 1.2833 - val_categorical_accuracy: 0.6120\n",
            "Epoch 59/100\n",
            "188/188 [==============================] - 9s 49ms/step - loss: 1.2315 - categorical_accuracy: 0.6327 - val_loss: 1.2290 - val_categorical_accuracy: 0.6385\n",
            "Epoch 60/100\n",
            "188/188 [==============================] - 8s 42ms/step - loss: 1.2422 - categorical_accuracy: 0.6283 - val_loss: 1.2439 - val_categorical_accuracy: 0.6350\n",
            "Epoch 61/100\n",
            "188/188 [==============================] - 10s 53ms/step - loss: 1.2425 - categorical_accuracy: 0.6262 - val_loss: 1.2399 - val_categorical_accuracy: 0.6450\n",
            "Epoch 62/100\n",
            "188/188 [==============================] - 8s 44ms/step - loss: 1.2167 - categorical_accuracy: 0.6408 - val_loss: 1.3026 - val_categorical_accuracy: 0.6230\n",
            "Epoch 63/100\n",
            "188/188 [==============================] - 12s 62ms/step - loss: 1.2176 - categorical_accuracy: 0.6377 - val_loss: 1.3286 - val_categorical_accuracy: 0.6245\n",
            "Epoch 64/100\n",
            "188/188 [==============================] - 10s 51ms/step - loss: 1.2268 - categorical_accuracy: 0.6360 - val_loss: 1.2335 - val_categorical_accuracy: 0.6490\n",
            "Epoch 65/100\n",
            "188/188 [==============================] - 8s 41ms/step - loss: 1.2122 - categorical_accuracy: 0.6478 - val_loss: 1.2723 - val_categorical_accuracy: 0.6365\n",
            "Epoch 66/100\n",
            "188/188 [==============================] - 10s 51ms/step - loss: 1.2248 - categorical_accuracy: 0.6358 - val_loss: 1.2507 - val_categorical_accuracy: 0.6395\n",
            "Epoch 67/100\n",
            "188/188 [==============================] - 9s 49ms/step - loss: 1.2053 - categorical_accuracy: 0.6450 - val_loss: 1.3027 - val_categorical_accuracy: 0.6210\n",
            "Epoch 68/100\n",
            "188/188 [==============================] - 8s 41ms/step - loss: 1.2044 - categorical_accuracy: 0.6513 - val_loss: 1.2642 - val_categorical_accuracy: 0.6320\n",
            "Epoch 69/100\n",
            "188/188 [==============================] - 10s 51ms/step - loss: 1.2102 - categorical_accuracy: 0.6423 - val_loss: 1.1903 - val_categorical_accuracy: 0.6515\n",
            "Epoch 70/100\n",
            "188/188 [==============================] - 8s 44ms/step - loss: 1.1873 - categorical_accuracy: 0.6507 - val_loss: 1.2403 - val_categorical_accuracy: 0.6525\n",
            "Epoch 71/100\n",
            "188/188 [==============================] - 9s 50ms/step - loss: 1.1948 - categorical_accuracy: 0.6547 - val_loss: 1.1946 - val_categorical_accuracy: 0.6580\n",
            "Epoch 72/100\n",
            "188/188 [==============================] - 10s 52ms/step - loss: 1.2001 - categorical_accuracy: 0.6452 - val_loss: 1.2192 - val_categorical_accuracy: 0.6500\n",
            "Epoch 73/100\n",
            "188/188 [==============================] - 8s 42ms/step - loss: 1.1882 - categorical_accuracy: 0.6427 - val_loss: 1.3274 - val_categorical_accuracy: 0.6225\n",
            "Epoch 74/100\n",
            "188/188 [==============================] - 9s 47ms/step - loss: 1.1675 - categorical_accuracy: 0.6613 - val_loss: 1.2380 - val_categorical_accuracy: 0.6530\n",
            "Epoch 75/100\n",
            "188/188 [==============================] - 10s 54ms/step - loss: 1.1784 - categorical_accuracy: 0.6633 - val_loss: 1.2825 - val_categorical_accuracy: 0.6450\n",
            "Epoch 76/100\n",
            "188/188 [==============================] - 9s 49ms/step - loss: 1.1739 - categorical_accuracy: 0.6605 - val_loss: 1.2244 - val_categorical_accuracy: 0.6610\n",
            "Epoch 77/100\n",
            "188/188 [==============================] - 10s 52ms/step - loss: 1.1702 - categorical_accuracy: 0.6660 - val_loss: 1.2144 - val_categorical_accuracy: 0.6465\n",
            "Epoch 78/100\n",
            "188/188 [==============================] - 8s 41ms/step - loss: 1.1738 - categorical_accuracy: 0.6598 - val_loss: 1.2609 - val_categorical_accuracy: 0.6415\n",
            "Epoch 79/100\n",
            "188/188 [==============================] - 10s 54ms/step - loss: 1.1806 - categorical_accuracy: 0.6612 - val_loss: 1.2641 - val_categorical_accuracy: 0.6415\n",
            "Epoch 80/100\n",
            "188/188 [==============================] - 8s 42ms/step - loss: 1.1818 - categorical_accuracy: 0.6625 - val_loss: 1.3028 - val_categorical_accuracy: 0.6240\n",
            "Epoch 81/100\n",
            "188/188 [==============================] - 10s 53ms/step - loss: 1.1552 - categorical_accuracy: 0.6638 - val_loss: 1.3260 - val_categorical_accuracy: 0.6245\n",
            "Epoch 82/100\n",
            "188/188 [==============================] - 9s 50ms/step - loss: 1.1655 - categorical_accuracy: 0.6635 - val_loss: 1.3198 - val_categorical_accuracy: 0.6390\n",
            "Epoch 83/100\n",
            "188/188 [==============================] - 9s 49ms/step - loss: 1.1796 - categorical_accuracy: 0.6483 - val_loss: 1.2385 - val_categorical_accuracy: 0.6360\n",
            "Epoch 84/100\n",
            "188/188 [==============================] - 10s 55ms/step - loss: 1.1588 - categorical_accuracy: 0.6680 - val_loss: 1.2163 - val_categorical_accuracy: 0.6590\n",
            "Epoch 85/100\n",
            "188/188 [==============================] - 11s 59ms/step - loss: 1.1555 - categorical_accuracy: 0.6737 - val_loss: 1.2941 - val_categorical_accuracy: 0.6460\n",
            "Epoch 86/100\n",
            "188/188 [==============================] - 9s 49ms/step - loss: 1.1619 - categorical_accuracy: 0.6677 - val_loss: 1.2843 - val_categorical_accuracy: 0.6320\n",
            "Epoch 87/100\n",
            "188/188 [==============================] - 10s 53ms/step - loss: 1.1426 - categorical_accuracy: 0.6758 - val_loss: 1.2325 - val_categorical_accuracy: 0.6630\n",
            "Epoch 88/100\n",
            "188/188 [==============================] - 8s 42ms/step - loss: 1.1609 - categorical_accuracy: 0.6723 - val_loss: 1.3421 - val_categorical_accuracy: 0.6145\n",
            "Epoch 89/100\n",
            "188/188 [==============================] - 10s 53ms/step - loss: 1.1309 - categorical_accuracy: 0.6787 - val_loss: 1.3695 - val_categorical_accuracy: 0.6240\n",
            "Epoch 90/100\n",
            "188/188 [==============================] - 8s 44ms/step - loss: 1.1480 - categorical_accuracy: 0.6752 - val_loss: 1.2358 - val_categorical_accuracy: 0.6440\n",
            "Epoch 91/100\n",
            "188/188 [==============================] - 9s 50ms/step - loss: 1.1533 - categorical_accuracy: 0.6753 - val_loss: 1.2778 - val_categorical_accuracy: 0.6435\n",
            "Epoch 92/100\n",
            "188/188 [==============================] - 10s 54ms/step - loss: 1.1438 - categorical_accuracy: 0.6760 - val_loss: 1.2630 - val_categorical_accuracy: 0.6715\n",
            "Epoch 93/100\n",
            "188/188 [==============================] - 8s 43ms/step - loss: 1.1277 - categorical_accuracy: 0.6875 - val_loss: 1.3682 - val_categorical_accuracy: 0.6290\n",
            "Epoch 94/100\n",
            "188/188 [==============================] - 10s 55ms/step - loss: 1.1448 - categorical_accuracy: 0.6757 - val_loss: 1.3038 - val_categorical_accuracy: 0.6280\n",
            "Epoch 95/100\n",
            "188/188 [==============================] - 8s 45ms/step - loss: 1.1154 - categorical_accuracy: 0.6953 - val_loss: 1.3327 - val_categorical_accuracy: 0.6390\n",
            "Epoch 96/100\n",
            "188/188 [==============================] - 9s 46ms/step - loss: 1.1359 - categorical_accuracy: 0.6788 - val_loss: 1.2738 - val_categorical_accuracy: 0.6435\n",
            "Epoch 97/100\n",
            "188/188 [==============================] - 10s 55ms/step - loss: 1.1187 - categorical_accuracy: 0.6908 - val_loss: 1.2281 - val_categorical_accuracy: 0.6630\n",
            "Epoch 98/100\n",
            "188/188 [==============================] - 9s 47ms/step - loss: 1.1281 - categorical_accuracy: 0.6888 - val_loss: 1.3126 - val_categorical_accuracy: 0.6430\n",
            "Epoch 99/100\n",
            "188/188 [==============================] - 10s 55ms/step - loss: 1.1477 - categorical_accuracy: 0.6793 - val_loss: 1.3704 - val_categorical_accuracy: 0.6260\n",
            "Epoch 100/100\n",
            "188/188 [==============================] - 8s 44ms/step - loss: 1.1184 - categorical_accuracy: 0.6843 - val_loss: 1.3411 - val_categorical_accuracy: 0.6410\n"
          ]
        },
        {
          "output_type": "display_data",
          "data": {
            "text/plain": [
              "<Figure size 1000x500 with 2 Axes>"
            ],
            "image/png": "[encoded data removed]"
          },
          "metadata": {}
        }
      ],
      "source": [
        "history_VGG_3 = model_VGG_3.fit_generator(train_generator, validation_data = validation_generator, epochs=100, verbose=1)\n",
        "\n",
        "plot_learning_curve(history_VGG_3.history['loss'], history_VGG_3.history['val_loss'],\n",
        "                    history_VGG_3.history['categorical_accuracy'], history_VGG_3.history['val_categorical_accuracy'],\n",
        "                    metric_name='Accuracy')"
      ]
    },
    {
      "cell_type": "markdown",
      "metadata": {
        "id": "l_jO_pE-avBM"
      },
      "source": [
        "Is the target achived? How can you improve the model?\n",
        "\n",
        "Discuss with the tutor and take necessary actions."
      ]
    },
    {
      "cell_type": "markdown",
      "source": [
        "**Notes:**\n",
        "- Model is not overfitted anymore.\n",
        "- If there is fluctuations, can be a problem with the learning rate (hyperparameters)."
      ],
      "metadata": {
        "id": "5A2XcuTzuPSW"
      }
    },
    {
      "cell_type": "markdown",
      "metadata": {
        "id": "szYFj2Urm5VE"
      },
      "source": [
        "### Saving the developed model\n",
        "\n",
        "Ones you are happy with the model you can save the model so that it can be used later. There are two main ways to save a model\n",
        "1. Save the entier model with the architecture configuration: `model.save()` & `model.load()`\n",
        "2. Save only the weights of each layer: `model.save_weights()` & `model.load_weights()`\n",
        "\n",
        "Let's use save for this example."
      ]
    },
    {
      "cell_type": "code",
      "execution_count": null,
      "metadata": {
        "id": "vXZzWtVbnd0J"
      },
      "outputs": [],
      "source": [
        "model_VGG_3.save(\"model_VGG_3\")"
      ]
    },
    {
      "cell_type": "markdown",
      "metadata": {
        "id": "Yjn0zpqin9Fr"
      },
      "source": [
        "If you are on colab you should also transfer the saved model to the google drive. Else you may loose your work when the instance gets idle and restart."
      ]
    },
    {
      "cell_type": "code",
      "execution_count": null,
      "metadata": {
        "id": "8Ph5rOAForyH"
      },
      "outputs": [],
      "source": [
        "## Only on colab\n",
        "\n",
        "# Change according to your directory structure\n",
        "!cp -R ./model_VGG_3 /content/drive/'My Drive'/ML/W8/"
      ]
    },
    {
      "cell_type": "markdown",
      "metadata": {
        "id": "k3vyygaVpPK_"
      },
      "source": [
        "**Colab users: It is recommended that you save each intermediate model that you develop and not wait till the end to save the model.** If you save the model, then you can load it and use it, if the Colab instance gets automatically terminated or disconnected. This will prevent you from losing your work and having to do evertyhing from scratch again.  "
      ]
    },
    {
      "cell_type": "markdown",
      "metadata": {
        "id": "gVSV1IakS3o3"
      },
      "source": [
        "# Transfer learning\n",
        "Another common approach used to develop deep CNN models is called transfer learning.\n",
        "Transfer learning is a machine learning method where a model developed for a task is reused as the starting point for a model on a second task\n",
        "\n",
        "The process for transfers learning is as follows:\n",
        "- **Select Source Model:** A pre-trained source model is chosen from available models. Many research institutions release models on large and challenging datasets that may be included in the pool of candidate models from which to choose from.\n",
        "- **Reuse Model:** The model pre-trained model can then be used as the starting point for a model on the second task of interest. This may involve using all or parts of the model, depending on the modelling technique used.\n",
        "- **Tune Model:** Optionally, the model may need to be adapted or refined on the input-output pair data available for the task of interest.\n",
        "\n",
        "We will not dive into transfer learning in this lab. This will be an exercise for you. A nice tutorial on transfer learning is available at [Tensorflow tutorials](https://www.tensorflow.org/tutorials/images/transfer_learning)\n",
        "\n",
        "\n",
        "\n",
        "# Pre-trained models from Tensorflow\n",
        "\n",
        "Tensoflow also has a library of pre-trained models that you can use. You can get more information from [Keras Applications](https://www.tensorflow.org/api_docs/python/tf/keras/applications)"
      ]
    }
  ],
  "metadata": {
    "accelerator": "GPU",
    "colab": {
      "provenance": [],
      "toc_visible": true,
      "include_colab_link": true
    },
    "kernelspec": {
      "display_name": "Python 3",
      "language": "python",
      "name": "python3"
    },
    "language_info": {
      "codemirror_mode": {
        "name": "ipython",
        "version": 3
      },
      "file_extension": ".py",
      "mimetype": "text/x-python",
      "name": "python",
      "nbconvert_exporter": "python",
      "pygments_lexer": "ipython3",
      "version": "3.7.4"
    }
  },
  "nbformat": 4,
  "nbformat_minor": 0
}